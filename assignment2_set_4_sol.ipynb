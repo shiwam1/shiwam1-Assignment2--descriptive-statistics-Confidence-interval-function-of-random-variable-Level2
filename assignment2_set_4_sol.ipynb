{
 "cells": [
  {
   "cell_type": "code",
   "execution_count": 2,
   "id": "9abf2613",
   "metadata": {},
   "outputs": [],
   "source": [
    "import pandas as pd\n",
    "import numpy as np\n",
    "from scipy import stats"
   ]
  },
  {
   "cell_type": "markdown",
   "id": "b01b1457",
   "metadata": {},
   "source": [
    "## Question 3"
   ]
  },
  {
   "cell_type": "code",
   "execution_count": 10,
   "id": "082a3770",
   "metadata": {},
   "outputs": [
    {
     "data": {
      "text/plain": [
       "-1.25"
      ]
     },
     "execution_count": 10,
     "metadata": {},
     "output_type": "execute_result"
    }
   ],
   "source": [
    "n=100\n",
    "mu=50\n",
    "sigma=40\n",
    "#for $45\n",
    "z1=(45-50)/(40/np.sqrt(100))\n",
    "z1"
   ]
  },
  {
   "cell_type": "code",
   "execution_count": 11,
   "id": "31557d5c",
   "metadata": {},
   "outputs": [
    {
     "data": {
      "text/plain": [
       "1.25"
      ]
     },
     "execution_count": 11,
     "metadata": {},
     "output_type": "execute_result"
    }
   ],
   "source": [
    "#for $55\n",
    "z2=(55-50)/(40/np.sqrt(100))\n",
    "z2"
   ]
  },
  {
   "cell_type": "code",
   "execution_count": 8,
   "id": "a20b3385",
   "metadata": {},
   "outputs": [
    {
     "data": {
      "text/plain": [
       "0.7887004526662893"
      ]
     },
     "execution_count": 8,
     "metadata": {},
     "output_type": "execute_result"
    }
   ],
   "source": [
    "stats.norm.cdf(1.25)-stats.norm.cdf(-1.25)#This is the probability of not initiate further investigations "
   ]
  },
  {
   "cell_type": "code",
   "execution_count": 12,
   "id": "2d262315",
   "metadata": {},
   "outputs": [
    {
     "data": {
      "text/plain": [
       "0.2112995473337107"
      ]
     },
     "execution_count": 12,
     "metadata": {},
     "output_type": "execute_result"
    }
   ],
   "source": [
    "1-0.7887004526662893# and here is the probability that will be an investigation"
   ]
  },
  {
   "cell_type": "markdown",
   "id": "8e6799ff",
   "metadata": {},
   "source": [
    "### Question 4"
   ]
  },
  {
   "cell_type": "code",
   "execution_count": 13,
   "id": "84ff50d8",
   "metadata": {},
   "outputs": [],
   "source": [
    "#n=[(z_alpha*sigma)/(x_bar - mu)]^2"
   ]
  },
  {
   "cell_type": "code",
   "execution_count": 22,
   "id": "93c06e39",
   "metadata": {},
   "outputs": [
    {
     "data": {
      "text/plain": [
       "-1.9599639845400545"
      ]
     },
     "execution_count": 22,
     "metadata": {},
     "output_type": "execute_result"
    }
   ],
   "source": [
    "# at 5% level of signficance \n",
    "z_alpha=stats.norm.ppf(0.05/2)\n",
    "z_alpha#  we have to use the value z_alpha as absolute value"
   ]
  },
  {
   "cell_type": "code",
   "execution_count": 24,
   "id": "e21af4ff",
   "metadata": {},
   "outputs": [
    {
     "data": {
      "text/plain": [
       "245.86240000000004"
      ]
     },
     "execution_count": 24,
     "metadata": {},
     "output_type": "execute_result"
    }
   ],
   "source": [
    "# in the given question we have to find \"n\" where sigma= 40, mu= 45and55 , x_bar= 50\n",
    "n=((1.96*40)/(50-45))**2\n",
    "n"
   ]
  },
  {
   "cell_type": "markdown",
   "id": "eb7890f4",
   "metadata": {},
   "source": [
    "### Approximate value of n is 250"
   ]
  },
  {
   "cell_type": "code",
   "execution_count": null,
   "id": "4d21c08d",
   "metadata": {},
   "outputs": [],
   "source": []
  }
 ],
 "metadata": {
  "kernelspec": {
   "display_name": "Python 3 (ipykernel)",
   "language": "python",
   "name": "python3"
  },
  "language_info": {
   "codemirror_mode": {
    "name": "ipython",
    "version": 3
   },
   "file_extension": ".py",
   "mimetype": "text/x-python",
   "name": "python",
   "nbconvert_exporter": "python",
   "pygments_lexer": "ipython3",
   "version": "3.9.12"
  }
 },
 "nbformat": 4,
 "nbformat_minor": 5
}
